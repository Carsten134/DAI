{
 "cells": [
  {
   "cell_type": "markdown",
   "source": [
    "# Introduction to Python, Data and the wonderful world of Data Science\n"
   ],
   "metadata": {
    "collapsed": false
   },
   "id": "a9a9b9dc677caaa9"
  },
  {
   "cell_type": "markdown",
   "source": [
    "# Recap Intros\n",
    "We will use Python and its major libraries extensively in this course. We will also use Jupyter notebooks to run our code. Please have a look at the following recap Notebooks to refresh your memory on these topics.\n",
    "[Jupyter](intros/001_intro_to_jupyter.ipynb)\n",
    "[Python](intros/002_intro_to_python.ipynb)\n",
    "[Pandas](intros/003_intro_to_pandas.ipynb)\n",
    "[Numpy](intros/004_intro_to_numpy.ipynb)\n",
    "[Matplotlib](intros/005_intro_to_matplotlib.ipynb)\n",
    "[scipy](intros/006_intro_to_scipy.ipynb)\n",
    "[web scraping](intros/007_intro_to_web_scraping.ipynb)"
   ],
   "metadata": {
    "collapsed": false
   },
   "id": "a0371f79682d47cc"
  },
  {
   "cell_type": "code",
   "outputs": [
    {
     "ename": "SyntaxError",
     "evalue": "invalid decimal literal (727837901.py, line 2)",
     "output_type": "error",
     "traceback": [
      "\u001B[0;36m  Cell \u001B[0;32mIn[1], line 2\u001B[0;36m\u001B[0m\n\u001B[0;31m    [intros/001_intro_to_jupyter.ipynb](Jupyter)\u001B[0m\n\u001B[0m               ^\u001B[0m\n\u001B[0;31mSyntaxError\u001B[0m\u001B[0;31m:\u001B[0m invalid decimal literal\n"
     ]
    }
   ],
   "source": [
    "# Recap intros\n",
    "\n"
   ],
   "metadata": {
    "collapsed": true,
    "ExecuteTime": {
     "end_time": "2024-03-26T10:24:25.162696Z",
     "start_time": "2024-03-26T10:24:25.159096Z"
    }
   },
   "id": "initial_id",
   "execution_count": 1
  }
 ],
 "metadata": {
  "kernelspec": {
   "display_name": "Python 3",
   "language": "python",
   "name": "python3"
  },
  "language_info": {
   "codemirror_mode": {
    "name": "ipython",
    "version": 2
   },
   "file_extension": ".py",
   "mimetype": "text/x-python",
   "name": "python",
   "nbconvert_exporter": "python",
   "pygments_lexer": "ipython2",
   "version": "2.7.6"
  }
 },
 "nbformat": 4,
 "nbformat_minor": 5
}
