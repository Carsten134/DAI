{
 "cells": [
  {
   "cell_type": "markdown",
   "metadata": {},
   "source": [
    "## <span style=\"color:#4375c7\">DAI</span>\n",
    "***\n",
    "*Course materials are for educational purposes only. Nothing contained herein should be considered investment advice or an opinion regarding the suitability of any security. For more information about this course, please contact us.*\n",
    "***\n",
    "## 1. Deep Learning - Neural Networks <a name=\"NN\"></a> \n",
    "\n",
    "**Deep learning** is a machine learning technique that uses **artificial neural networks (ANN)** with multiple **hidden layers** between the input and output layers of the network. The learning process can be supervised, unsupervised, or semi-supervised. Deep learning models are universal approximators and can be used as discriminative models (for regression and classification tasks) and as generative models (for simulation tasks).\n",
    "\n",
    "\n",
    "During this course, we are using **[keras](https://keras.io/)** for the analysis. Keras is one of the most commonly used Python libraries when it comes to solving machine learning problems with deep neural networks.\n",
    "\n",
    "\n",
    "\n",
    "### Session contents:\n",
    "1. **[Deep Learning - Neural Networks ](#NN)**\n",
    "    - [Motivation](#motiv)\n",
    "    - [Feed forward networks](#FFNN)\n",
    "    - [Backpropagation & gradient descent](#bp)\n",
    "    - [Keras library](#keras)\n",
    "\n",
    "\n",
    "    \n",
    "2. **[Hands-on session](#ho)**\n",
    "***"
   ]
  },
  {
   "cell_type": "code",
   "outputs": [],
   "source": [
    "!pip install -r https://raw.githubusercontent.com/firrm/DAI/main/requirements.txt #ensure that the required packages are installed\n",
    "import numpy as np\n",
    "import matplotlib.pyplot as plt\n",
    "import math\n",
    "import math as math\n"
   ],
   "metadata": {
    "collapsed": false
   }
  },
  {
   "cell_type": "markdown",
   "metadata": {},
   "source": [
    "### Motivation <a id='motiv'></a>"
   ]
  },
  {
   "cell_type": "markdown",
   "metadata": {},
   "source": [
    "We start with a basic visualization of a biological neuron, which passes an electronic signal from the dendrites (input) down the axon to the axon terminals (output). This signal is then passed on to another neuron. The neuron only passes the incoming signal if it is strong enough. That is, it must exceed a certain threshold. If the signal is weaker than the threshold, the neuron does not respond. [2].(The figure below is taken from https://simple.wikipedia.org/wiki/Neuron )* \n",
    "\n",
    "<br></br>\n",
    "<img src=\"../assets/Neuron.png\" alt=\"Drawing\" style=\"width: 550px;\"/>\n",
    "<br/><br/>\n",
    "\n",
    "Based on the biological observations, we want to motivate the artificial neural network. A basic artificial neuron can be seen as a form of an advanced linear model. For example, consider a linear regression \n",
    "\n",
    "$$\\hat{y} = w[0] + w[1]*x[1]+ \\dots + w[p]*x[p]$$\n",
    "\n",
    "with weights $w$ and inputs $x$ and passing of the output to an **activation function** $f$, which transforms the output of the linear regression in a non-linear way considering a specific threshold like the biological counterpart. *(The figure below is taken from Nguyen/Zeigermann [3] )*  \n",
    "$$output = f(\\hat{y}) = f(w[0] + \\sum_{i=1}^p w[i]*x[i]) $$\n",
    "\n",
    "<br></br>\n",
    "<img src=\"../assets/artificial_neuron.png\" alt=\"Drawing\" style=\"width: 550px;\"/>\n",
    "<br/><br/>\n",
    "\n",
    "The first neural networks used the following simple **step function** with a threshold of zero\n",
    "$$ f(n) =\n",
    "  \\begin{cases}\n",
    "    0       & \\quad \\text{if } n < 0\\\\\n",
    "    1  & \\quad \\text{if } n > 0\n",
    "  \\end{cases}\n",
    " $$\n",
    " \n",
    "However, since we want to calculate the derivative of the activation function later during the learning process, we cannot use this simple step function because it is not differentiable.\n",
    "We use a similar but differentiable function called the **sigmoid** function:"
   ]
  },
  {
   "cell_type": "code",
   "execution_count": 21,
   "metadata": {
    "ExecuteTime": {
     "end_time": "2024-03-26T11:21:51.377228Z",
     "start_time": "2024-03-26T11:21:51.252051Z"
    }
   },
   "outputs": [
    {
     "data": {
      "text/plain": "<function matplotlib.pyplot.show(close=None, block=None)>"
     },
     "execution_count": 21,
     "metadata": {},
     "output_type": "execute_result"
    },
    {
     "data": {
      "text/plain": "<Figure size 640x480 with 1 Axes>",
      "image/png": "[encoded data removed]"
     },
     "metadata": {},
     "output_type": "display_data"
    }
   ],
   "source": [
    "sigmoid = lambda x: 1 / (1 + np.exp(-x))\n",
    "\n",
    "line = np.linspace(-10, 10, 100)\n",
    "\n",
    "plt.plot(line, sigmoid(line), label=\"sigmoid\")\n",
    "plt.legend(loc=\"best\")\n",
    "plt.xlabel(\"x\")\n",
    "plt.ylabel(\"sigmoid(x)\")\n",
    "plt.grid()\n",
    "plt.show"
   ]
  },
  {
   "cell_type": "markdown",
   "metadata": {},
   "source": [
    "A sigmoid function forces values into the [0, 1] interval, and its output can be interpreted as probabilities (see [3], [4]).\n",
    "Keep in mind, however, that activation functions should be selected based on the specific task at hand.\n"
   ]
  },
  {
   "cell_type": "markdown",
   "metadata": {},
   "source": [
    "### Feed forward networks <a id='FFNN'></a>\n",
    "Combining layers of fully connected neurons leads us to **feed forward networks**, also called **multi layer perceptrons** (MLP).\n",
    "These networks consist of an input layer of artificial neurons and hidden layers of artificial neurons that are fully connected to their input layer and fully connected to their output layer. All layers that are not input or output layers are called \"hidden\". The artificial neurons, or just neurons, are also called nodes. *(The figure below is taken from Nguyen/Zeigermann [3])* \n",
    "<br></br>\n",
    "<img src=\"../assets/FFN.png\" alt=\"Drawing\" style=\"width: 350px;\"/>\n",
    "<br/><br/>\n",
    "Each hidden layer neuron calculates the activation value for the weighted sum of the inputs. It then passes the output to the next neuron, and so on. This is why it is called \"feed forward\". This calculation can be done quite fast because it is a simple matrix calculation. The following example from [2] shows the calculation based on a two-layer feed forward network.\n",
    "<br></br>\n",
    "<img src=\"../assets/Matrix_Calculation2.png\" alt=\"Drawing\" style=\"width: 550px;\"/>\n",
    "<br/><br/>\n",
    "This can be expressed by the following matrix calculation: \n",
    "<br></br>\n",
    "<img src=\"../assets/Matrix_Calculation1.png\" alt=\"Drawing\" style=\"width: 550px;\"/>\n",
    "<br/><br/>\n"
   ]
  },
  {
   "cell_type": "markdown",
   "metadata": {},
   "source": [
    "We only need to multiply the matrix of input values by the matrix of weights to get the summed weighted values for the neurons. This makes it computationally easy to propagate values through the network, even for very large networks with many layers and neurons. "
   ]
  },
  {
   "cell_type": "markdown",
   "metadata": {},
   "source": [
    "### Backpropagation & gradient descent <a id='bp'></a>\n",
    "When we feed the signals through the network, we get an output from the output layer. With this output we start our learning algorithm. \n",
    "\n",
    "First, we compute the loss function between the output and the target, also called the error. But how can we use the error term to adjust the network weights? Let us look at this with an example.  *(The the example and figures below are taken from  Rashid [2] )* \n",
    "<br></br>\n",
    "<img src=\"../assets/backprop.png\" alt=\"Drawing\" style=\"width: 750px;\"/>\n",
    "<br/><br/>\n",
    "\n",
    "We split the error of each output to adjust every weight. \n",
    "\n",
    "For example, the fraction of error $e_1$ that adjusts the weight $w_{11}$ can be calculated as \n",
    "\n",
    "$$\\frac{w_{11}}{w_{11}+w_{21}}, $$\n",
    "\n",
    "the fraction of error $e_2$ that adjusts the weight $w_{21}$ can be calculated as\n",
    "\n",
    "$$\\frac{w_{21}}{w_{11}+w_{21}}, $$\n",
    "\n",
    "But how can we calculate the weights when we have hidden layers? To deal with this, we need to calculate the error of the hidden neurons as\n",
    "\n",
    "$$e_{hidden,1} =e_{output,1}*\\frac{w_{11}}{w_{11}+w_{21}} + e_{output,2}*\\frac{w_{21}}{w_{11}+w_{21}}$$\n",
    "\n",
    "Start:\n",
    "<br></br>\n",
    "<img src=\"../assets/backprop3.png\" alt=\"Drawing\" style=\"width: 750px;\"/>\n",
    "<br/><br/>\n",
    "\n",
    "End:\n",
    "<br></br>\n",
    "<img src=\"../assets/backprop2.png\" alt=\"Drawing\" style=\"width: 750px;\"/>\n",
    "<br/><br/>\n",
    "\n",
    "At this point, we have backpropagated the error terms from the output to each neuron, but how do we actually adjust the weights? We use the gradient descent algorithm, which calculates the new weight by subtracting the gradient of the error term times the learning rate from the old weight.\n",
    "\n",
    "$$w_{ij,new} = w_{ij,old}- learningrate   \\nabla \\frac{\\delta e}{\\delta w_{ij,old}}$$\n",
    "\n",
    "We can visualize the idea of the gradient descent in the following plot taken from Rashid [2].\n",
    "<br></br>\n",
    "<img src=\"../assets/gradient.png\" alt=\"Drawing\" style=\"width: 750px;\"/>\n",
    "<br/><br/>\n",
    "\n",
    "By adjusting the weight by the slope of the error term, we can \"walk\" down the error curve and get the specific weight for the lowest error. The step size depends on the slope and the learning rate. The learning rate is a hyperparameter that should be optimized during the training process. If the step size is too large, we might step over a minimum; if it is too small, we might get stuck on a local minimum. "
   ]
  },
  {
   "cell_type": "markdown",
   "metadata": {},
   "source": [
    "### Keras library <a id='nn'></a>\n",
    "To model our first example of a neural network, we use the Python library **Keras**.\n",
    "Keras is a high-level Application Programming Interface (API) developed by the Google engineer François Chollet, running on top of the machine learning platform **TensorFlow**. Tensorflow is an open-source machine learning platform developed by the Google Brain team. \n",
    "\n",
    "There are three ways to create models with the Keras library. \n",
    "First, there is the **Sequential** model, which is easy to implement but limited to single input and single output stacks of layers of the model. \n",
    "Second, there is the **Functional API**, which supports arbitrary architectures of models and is also easy to use. \n",
    "Third, there is the **Model subclassing**, which allows you to implement everything from scratch on your own. This is only recommended for very complex research use cases [1]. \n",
    "\n",
    "We will focus on the Functional API for simplicity and ease of use.\n",
    "\n",
    "Keras or Tensorflow use multidimensional numpy arrays as basic data structure. These arrays are called **tensors**. A tensor is a container for data and can be described by its **dimension** (also called **axis** in terms of tensors).\n",
    "A 0D tensor is also called a scalar and can only save one value, for example one float64 number."
   ]
  },
  {
   "cell_type": "code",
   "execution_count": 22,
   "metadata": {
    "ExecuteTime": {
     "end_time": "2024-03-26T11:21:51.379995Z",
     "start_time": "2024-03-26T11:21:51.378112Z"
    }
   },
   "outputs": [],
   "source": [
    "x = np.array(0.63)"
   ]
  },
  {
   "cell_type": "markdown",
   "metadata": {},
   "source": [
    "A **1D tensor** is also called a **vector** and consists of one axis like a vector in linear algebra."
   ]
  },
  {
   "cell_type": "code",
   "execution_count": 23,
   "metadata": {
    "ExecuteTime": {
     "end_time": "2024-03-26T11:21:51.385624Z",
     "start_time": "2024-03-26T11:21:51.380597Z"
    }
   },
   "outputs": [],
   "source": [
    "x = np.array([0.63, 0.54, 0.89])"
   ]
  },
  {
   "cell_type": "markdown",
   "metadata": {},
   "source": [
    "A **2D tensor**, or an array of vectors, is called a **matrix**."
   ]
  },
  {
   "cell_type": "code",
   "execution_count": 24,
   "metadata": {
    "ExecuteTime": {
     "end_time": "2024-03-26T11:21:51.409055Z",
     "start_time": "2024-03-26T11:21:51.406385Z"
    }
   },
   "outputs": [],
   "source": [
    "x = np.array([[0.63, 0.54, 0.89],\n",
    "              [0.12, 0.44, 0.23],\n",
    "              [0.23, 0.34, 0.76]])"
   ]
  },
  {
   "cell_type": "markdown",
   "metadata": {},
   "source": [
    "You can also create high-dimensional tensors like **3D tensors** for image or time series data and also **4D tensors** for video data. To manipulate these tensors, you can use the basic numpy transformations for arrays. You can always check the dimension and shape of the tensors by the .ndim and .shape attributes [4]. "
   ]
  },
  {
   "cell_type": "code",
   "execution_count": 25,
   "metadata": {
    "ExecuteTime": {
     "end_time": "2024-03-26T11:21:51.414614Z",
     "start_time": "2024-03-26T11:21:51.410198Z"
    }
   },
   "outputs": [
    {
     "name": "stdout",
     "output_type": "stream",
     "text": [
      "2\n",
      "(3, 3)\n"
     ]
    }
   ],
   "source": [
    "print(x.ndim)\n",
    "print(x.shape)"
   ]
  },
  {
   "cell_type": "markdown",
   "metadata": {},
   "source": [
    "To transform tensors, use the numpy functions for arrays."
   ]
  },
  {
   "cell_type": "markdown",
   "metadata": {},
   "source": [
    "### Example: a neural network for regression <a id='nnR'></a>\n",
    "Using our first neural network, we want to predict the median price of homes based on the **Boston Housing Price dataset**. We follow an example from Chollet [4].\n",
    "\n",
    "First, we import the dataset and normalize the features."
   ]
  },
  {
   "cell_type": "code",
   "execution_count": 31,
   "metadata": {
    "ExecuteTime": {
     "end_time": "2024-03-26T11:23:38.855804Z",
     "start_time": "2024-03-26T11:23:33.344098Z"
    }
   },
   "outputs": [
    {
     "name": "stderr",
     "output_type": "stream",
     "text": [
      "2024-03-26 12:23:33.696856: I external/local_tsl/tsl/cuda/cudart_stub.cc:32] Could not find cuda drivers on your machine, GPU will not be used.\n",
      "2024-03-26 12:23:33.701308: I external/local_tsl/tsl/cuda/cudart_stub.cc:32] Could not find cuda drivers on your machine, GPU will not be used.\n",
      "2024-03-26 12:23:33.765291: I tensorflow/core/platform/cpu_feature_guard.cc:210] This TensorFlow binary is optimized to use available CPU instructions in performance-critical operations.\n",
      "To enable the following instructions: AVX2 FMA, in other operations, rebuild TensorFlow with the appropriate compiler flags.\n",
      "2024-03-26 12:23:36.684918: W tensorflow/compiler/tf2tensorrt/utils/py_utils.cc:38] TF-TRT Warning: Could not find TensorRT\n"
     ]
    },
    {
     "name": "stdout",
     "output_type": "stream",
     "text": [
      "Downloading data from https://storage.googleapis.com/tensorflow/tf-keras-datasets/boston_housing.npz\n",
      "\u001B[1m57026/57026\u001B[0m \u001B[32m━━━━━━━━━━━━━━━━━━━━\u001B[0m\u001B[37m\u001B[0m \u001B[1m0s\u001B[0m 2us/step\n"
     ]
    }
   ],
   "source": [
    "from keras.datasets import boston_housing\n",
    "(train_data, train_targets), (test_data, test_targets) = boston_housing.load_data()"
   ]
  },
  {
   "cell_type": "markdown",
   "metadata": {},
   "source": [
    "We have 404 observations with 13 attributes of houses at different locations in the Boston suburb. For example, we have information on the per capita crime rate, the average number of rooms per dwelling, or the concentration of nitrogen oxides in the air. The target variables are the median values of the houses in thousands of dollars. Because the attributes are on different scales, we need to normalize the data."
   ]
  },
  {
   "cell_type": "code",
   "execution_count": 32,
   "metadata": {
    "ExecuteTime": {
     "end_time": "2024-03-26T11:23:46.036896Z",
     "start_time": "2024-03-26T11:23:46.034021Z"
    }
   },
   "outputs": [
    {
     "name": "stdout",
     "output_type": "stream",
     "text": [
      "(404, 13)\n",
      "(102, 13)\n"
     ]
    }
   ],
   "source": [
    "# normalize the data if needed:\n",
    "mean = train_data.mean(axis=0)\n",
    "train_data -= mean\n",
    "std = train_data.std(axis=0)\n",
    "train_data /= std\n",
    "test_data -= mean\n",
    "test_data /= std\n",
    "\n",
    "print(train_data.shape)\n",
    "print(test_data.shape)\n"
   ]
  },
  {
   "cell_type": "markdown",
   "metadata": {},
   "source": [
    "We construct a neural network with one input layer, two hidden layers and 64 nodes. We use the **ReLu** function as the activation function in the input and hidden layers. The ReLu activation function is the most popular in deep learning because it zeroes out negative values and solves the problem of vanishing gradients during gradient propagation."
   ]
  },
  {
   "cell_type": "code",
   "execution_count": 33,
   "metadata": {
    "ExecuteTime": {
     "end_time": "2024-03-26T11:23:50.574840Z",
     "start_time": "2024-03-26T11:23:50.476870Z"
    }
   },
   "outputs": [
    {
     "data": {
      "text/plain": "<Figure size 640x480 with 1 Axes>",
      "image/png": "[encoded data removed]"
     },
     "metadata": {},
     "output_type": "display_data"
    }
   ],
   "source": [
    "import numpy as np\n",
    "import matplotlib.pyplot as plt\n",
    "import math\n",
    "import math as math\n",
    "\n",
    "def relu(input):\n",
    "    'relu activation'\n",
    "    # Calculate the value for the output of the relu function: output\n",
    "    output = np.maximum(input, 0)\n",
    "    # Return the value just calculated\n",
    "    return(output)\n",
    "\n",
    "line = np.linspace(-10, 10, 100)\n",
    "\n",
    "plt.plot(line, relu(line), label=\"ReLu\")\n",
    "plt.legend(loc=\"best\")\n",
    "plt.xlabel(\"x\")\n",
    "plt.ylabel(\"ReLu(x)\")\n",
    "plt.grid()"
   ]
  },
  {
   "cell_type": "markdown",
   "metadata": {},
   "source": [
    "To specify which optimizer, loss function, or model metrics to use, we configure the learning process using the **compile()** function.\n",
    "Since we want to predict the house price and run a regression, we use the **Mean Squared Error** (MSE) of our prediction and the target as our loss function or error. We use the **RMSProp** algorithm as the weight optimizer. This is an efficient and fast gradient descent algorithm. \n",
    "\n",
    "To monitor the training process, we use the **Mean Absolute Error** (MAE) metric as a common regression metric. For our house price prediction, an MAE of $1.5$ can be interpreted to mean that our predictions are off by $1500\\$$ on average [4]. \n",
    "\n",
    "Using the summary() function of the keras model, we print a summary of our neural network, showing all layers and the number of neurons, as well as the number of parameters optimized during the training process."
   ]
  },
  {
   "cell_type": "code",
   "execution_count": 34,
   "metadata": {
    "ExecuteTime": {
     "end_time": "2024-03-26T11:23:54.636072Z",
     "start_time": "2024-03-26T11:23:54.554102Z"
    }
   },
   "outputs": [
    {
     "name": "stderr",
     "output_type": "stream",
     "text": [
      "2024-03-26 12:23:54.590920: I external/local_xla/xla/stream_executor/cuda/cuda_executor.cc:998] successful NUMA node read from SysFS had negative value (-1), but there must be at least one NUMA node, so returning NUMA node zero. See more at https://github.com/torvalds/linux/blob/v6.0/Documentation/ABI/testing/sysfs-bus-pci#L344-L355\n",
      "2024-03-26 12:23:54.591747: W tensorflow/core/common_runtime/gpu/gpu_device.cc:2251] Cannot dlopen some GPU libraries. Please make sure the missing libraries mentioned above are installed properly if you would like to use GPU. Follow the guide at https://www.tensorflow.org/install/gpu for how to download and setup the required libraries for your platform.\n",
      "Skipping registering GPU devices...\n"
     ]
    },
    {
     "data": {
      "text/plain": "\u001B[1mModel: \"functional_1\"\u001B[0m\n",
      "text/html": "<pre style=\"white-space:pre;overflow-x:auto;line-height:normal;font-family:Menlo,'DejaVu Sans Mono',consolas,'Courier New',monospace\"><span style=\"font-weight: bold\">Model: \"functional_1\"</span>\n</pre>\n"
     },
     "metadata": {},
     "output_type": "display_data"
    },
    {
     "data": {
      "text/plain": "┏━━━━━━━━━━━━━━━━━━━━━━━━━━━━━━━━━┳━━━━━━━━━━━━━━━━━━━━━━━━┳━━━━━━━━━━━━━━━┓\n┃\u001B[1m \u001B[0m\u001B[1mLayer (type)                   \u001B[0m\u001B[1m \u001B[0m┃\u001B[1m \u001B[0m\u001B[1mOutput Shape          \u001B[0m\u001B[1m \u001B[0m┃\u001B[1m \u001B[0m\u001B[1m      Param #\u001B[0m\u001B[1m \u001B[0m┃\n┡━━━━━━━━━━━━━━━━━━━━━━━━━━━━━━━━━╇━━━━━━━━━━━━━━━━━━━━━━━━╇━━━━━━━━━━━━━━━┩\n│ input_layer (\u001B[38;5;33mInputLayer\u001B[0m)        │ (\u001B[38;5;45mNone\u001B[0m, \u001B[38;5;34m13\u001B[0m)             │             \u001B[38;5;34m0\u001B[0m │\n├─────────────────────────────────┼────────────────────────┼───────────────┤\n│ dense (\u001B[38;5;33mDense\u001B[0m)                   │ (\u001B[38;5;45mNone\u001B[0m, \u001B[38;5;34m64\u001B[0m)             │           \u001B[38;5;34m896\u001B[0m │\n├─────────────────────────────────┼────────────────────────┼───────────────┤\n│ dense_1 (\u001B[38;5;33mDense\u001B[0m)                 │ (\u001B[38;5;45mNone\u001B[0m, \u001B[38;5;34m64\u001B[0m)             │         \u001B[38;5;34m4,160\u001B[0m │\n├─────────────────────────────────┼────────────────────────┼───────────────┤\n│ dense_2 (\u001B[38;5;33mDense\u001B[0m)                 │ (\u001B[38;5;45mNone\u001B[0m, \u001B[38;5;34m1\u001B[0m)              │            \u001B[38;5;34m65\u001B[0m │\n└─────────────────────────────────┴────────────────────────┴───────────────┘\n",
      "text/html": "<pre style=\"white-space:pre;overflow-x:auto;line-height:normal;font-family:Menlo,'DejaVu Sans Mono',consolas,'Courier New',monospace\">┏━━━━━━━━━━━━━━━━━━━━━━━━━━━━━━━━━┳━━━━━━━━━━━━━━━━━━━━━━━━┳━━━━━━━━━━━━━━━┓\n┃<span style=\"font-weight: bold\"> Layer (type)                    </span>┃<span style=\"font-weight: bold\"> Output Shape           </span>┃<span style=\"font-weight: bold\">       Param # </span>┃\n┡━━━━━━━━━━━━━━━━━━━━━━━━━━━━━━━━━╇━━━━━━━━━━━━━━━━━━━━━━━━╇━━━━━━━━━━━━━━━┩\n│ input_layer (<span style=\"color: #0087ff; text-decoration-color: #0087ff\">InputLayer</span>)        │ (<span style=\"color: #00d7ff; text-decoration-color: #00d7ff\">None</span>, <span style=\"color: #00af00; text-decoration-color: #00af00\">13</span>)             │             <span style=\"color: #00af00; text-decoration-color: #00af00\">0</span> │\n├─────────────────────────────────┼────────────────────────┼───────────────┤\n│ dense (<span style=\"color: #0087ff; text-decoration-color: #0087ff\">Dense</span>)                   │ (<span style=\"color: #00d7ff; text-decoration-color: #00d7ff\">None</span>, <span style=\"color: #00af00; text-decoration-color: #00af00\">64</span>)             │           <span style=\"color: #00af00; text-decoration-color: #00af00\">896</span> │\n├─────────────────────────────────┼────────────────────────┼───────────────┤\n│ dense_1 (<span style=\"color: #0087ff; text-decoration-color: #0087ff\">Dense</span>)                 │ (<span style=\"color: #00d7ff; text-decoration-color: #00d7ff\">None</span>, <span style=\"color: #00af00; text-decoration-color: #00af00\">64</span>)             │         <span style=\"color: #00af00; text-decoration-color: #00af00\">4,160</span> │\n├─────────────────────────────────┼────────────────────────┼───────────────┤\n│ dense_2 (<span style=\"color: #0087ff; text-decoration-color: #0087ff\">Dense</span>)                 │ (<span style=\"color: #00d7ff; text-decoration-color: #00d7ff\">None</span>, <span style=\"color: #00af00; text-decoration-color: #00af00\">1</span>)              │            <span style=\"color: #00af00; text-decoration-color: #00af00\">65</span> │\n└─────────────────────────────────┴────────────────────────┴───────────────┘\n</pre>\n"
     },
     "metadata": {},
     "output_type": "display_data"
    },
    {
     "data": {
      "text/plain": "\u001B[1m Total params: \u001B[0m\u001B[38;5;34m5,121\u001B[0m (20.00 KB)\n",
      "text/html": "<pre style=\"white-space:pre;overflow-x:auto;line-height:normal;font-family:Menlo,'DejaVu Sans Mono',consolas,'Courier New',monospace\"><span style=\"font-weight: bold\"> Total params: </span><span style=\"color: #00af00; text-decoration-color: #00af00\">5,121</span> (20.00 KB)\n</pre>\n"
     },
     "metadata": {},
     "output_type": "display_data"
    },
    {
     "data": {
      "text/plain": "\u001B[1m Trainable params: \u001B[0m\u001B[38;5;34m5,121\u001B[0m (20.00 KB)\n",
      "text/html": "<pre style=\"white-space:pre;overflow-x:auto;line-height:normal;font-family:Menlo,'DejaVu Sans Mono',consolas,'Courier New',monospace\"><span style=\"font-weight: bold\"> Trainable params: </span><span style=\"color: #00af00; text-decoration-color: #00af00\">5,121</span> (20.00 KB)\n</pre>\n"
     },
     "metadata": {},
     "output_type": "display_data"
    },
    {
     "data": {
      "text/plain": "\u001B[1m Non-trainable params: \u001B[0m\u001B[38;5;34m0\u001B[0m (0.00 B)\n",
      "text/html": "<pre style=\"white-space:pre;overflow-x:auto;line-height:normal;font-family:Menlo,'DejaVu Sans Mono',consolas,'Courier New',monospace\"><span style=\"font-weight: bold\"> Non-trainable params: </span><span style=\"color: #00af00; text-decoration-color: #00af00\">0</span> (0.00 B)\n</pre>\n"
     },
     "metadata": {},
     "output_type": "display_data"
    }
   ],
   "source": [
    "from tensorflow.keras import layers,Model\n",
    "\n",
    "#define the input space:\n",
    "inputs = layers.Input((train_data.shape[1],))\n",
    "# define the input layer:\n",
    "x = layers.Dense(64, activation = 'relu')(inputs)\n",
    "x = layers.Dense(64, activation = 'relu')(x)\n",
    "output = layers.Dense(1)(x)\n",
    "model = Model(inputs,output)\n",
    "model.compile(optimizer='rmsprop', loss='mse', metrics=['mae'])\n",
    "model.summary()\n"
   ]
  },
  {
   "cell_type": "code",
   "execution_count": null,
   "metadata": {},
   "outputs": [],
   "source": [
    "history = model.fit(train_data, train_targets, validation_data=(test_data, test_targets), epochs=100, batch_size=8, verbose =0)"
   ]
  },
  {
   "cell_type": "markdown",
   "metadata": {},
   "source": [
    "The epochs describe the number of backpropagation iterations through the data set. The batch (sometimes called a mini-batch) is the set of samples that are processed simultaneously by the model. We use only one data point at a time. Both are hyperparameters that can be optimized during training."
   ]
  },
  {
   "cell_type": "code",
   "execution_count": null,
   "metadata": {},
   "outputs": [],
   "source": [
    "import matplotlib.pyplot as plt\n",
    "plt.plot(range(0, len(history.history['mae'])), history.history['mae'],label =\"train\")\n",
    "plt.plot(range(0, len(history.history['val_mae'])),\n",
    "         history.history['val_mae'],label=\"test\")\n",
    "plt.xlabel('Epochs')\n",
    "plt.ylabel('Validation mae')\n",
    "plt.axis([0, 100, 1, 3.5])\n",
    "plt.legend()\n",
    "plt.show()\n",
    "print(history.history['val_mae'][-1])"
   ]
  },
  {
   "cell_type": "markdown",
   "metadata": {},
   "source": [
    "As you can see, the MAE of the training and test data sets differ significantly. This indicates overfitting, as the train MAE seems to decrease significantly with higher epochs, while the test MAE seems to decrease much less. To mitigate this problem, we use a dropout layer.\n",
    "\n",
    "A dropout layer is one of the most effective regularization techniques that randomly drops a number of output features of a layer during the training phase. The dropped output values are set to zero. The fraction of dropped values is called the dropout rate [4]. "
   ]
  },
  {
   "cell_type": "code",
   "execution_count": null,
   "metadata": {},
   "outputs": [],
   "source": [
    "##### define the input space:\n",
    "inputs = layers.Input((train_data.shape[1],))\n",
    "# define the input layer:\n",
    "x = layers.Dense(64, activation = 'relu')(inputs)\n",
    "x = layers.Dense(64, activation = 'relu')(x)\n",
    "x = layers.Dropout(0.1)(x)\n",
    "output = layers.Dense(1)(x)\n",
    "model = Model(inputs,output)\n",
    "\n",
    "model.compile(optimizer='rmsprop', loss='mse', metrics=['mae'])\n",
    "\n",
    "history = model.fit(train_data, train_targets, validation_data=(test_data, test_targets), epochs=100, batch_size=8, verbose =0)\n",
    "plt.plot(range(0, len(history.history['mae'])), history.history['mae'],label =\"train\")\n",
    "plt.plot(range(0, len(history.history['val_mae'])),\n",
    "         history.history['val_mae'],label=\"test\")\n",
    "plt.xlabel('Epochs')\n",
    "plt.ylabel('Validation mae')\n",
    "plt.axis([0, 100, 1.5, 3.5])\n",
    "plt.legend()\n",
    "plt.show()"
   ]
  },
  {
   "cell_type": "markdown",
   "metadata": {},
   "source": [
    "According to this plot, the validation MAE stops improving significantly after 50 epochs. We can fit the final production model with 50 epochs to get the best result for our validation set."
   ]
  },
  {
   "cell_type": "code",
   "execution_count": null,
   "metadata": {},
   "outputs": [],
   "source": [
    "history = model.fit(train_data, train_targets, validation_data=(test_data, test_targets), epochs=50, batch_size=8, verbose =0)\n",
    "print(history.history['mae'][-1])\n",
    "print(history.history['val_mae'][-1])"
   ]
  },
  {
   "cell_type": "markdown",
   "metadata": {},
   "source": [
    "A validation MAE of $2.42$ leads to a prediction error of $2420\\$ $ on average. The network can be further optimized by choosing different network architectures, dropout rates, learning rates, or by using more training data. \n",
    "\n",
    "A common technique is to first overfit a network and then regularize the network to find the ideal model."
   ]
  },
  {
   "cell_type": "markdown",
   "metadata": {},
   "source": [
    "Now we want to summarize some rules for building a neural network following Chollet's tips [4]:\n",
    "\n",
    "- Preprocess your data. For data with features with different ranges, scale each feature independently.\n",
    "\n",
    "- Use a small network with one or two hidden layers when little data is available.\n",
    "\n",
    "- For **regression** tasks, use a dense layer as the last layer without specifying the activation function. For **scalar regression**, use one neuron in the last layer, and for **multiple regression**, use multiple neurons, one for each equation. Use the mean squared error as the loss function.\n",
    "\n",
    "- For **binary classification** tasks, use the **sigmoid** function in the last layer and **binary cross-entropy** as the loss function.\n",
    "\n",
    "- For **multiclass classification**, use the **softmax** activation function with one neuron for each class you want to classify.  As a loss function, use **categorical cross-entropy**, since it minimizes the distance between the distributions of the prediction and the target.\n",
    "\n",
    "- Use the **Adam** or **RMSProp** algorithm as an optimizer for fast and efficient training.\n",
    "  \n",
    "- Avoid overfitting by using appropriate network sizes, fewer epochs, and different training and test data sets.   \n",
    "    "
   ]
  },
  {
   "cell_type": "markdown",
   "metadata": {},
   "source": [
    "For a quick overview of the basic features of Keras, please check out: https://datacamp-community-prod.s3.amazonaws.com/94fc681d-5422-40cb-a129-2218e9522f17\n",
    "To practice the Keras functions and learn more about neural networks, please take the datacamp course \"Introduction to Deep Learning in Python\".       "
   ]
  },
  {
   "cell_type": "markdown",
   "metadata": {},
   "source": [
    "<br/><br/>\n",
    "\n",
    "### Session takeaways \n",
    "\n",
    "*What have we learned in this session?*\n",
    "\n",
    "- We know the basic structure of a neural network\n",
    "- We know the training process of a neural network via backpropagation and gradient descent\n",
    "- We know how to construct, train and evaluate a neural network for regression or classification tasks\n",
    "- We can apply regularization to a network to reduce overfitting\n",
    "\n",
    "\n",
    "*What's next?*\n",
    "\n",
    "During the hands-on session, you will use Keras to build your own neural network and dive deeper into classification and regression tasks with deep learning models.\n",
    "***"
   ]
  },
  {
   "cell_type": "markdown",
   "metadata": {},
   "source": [
    "<br/><br/>\n",
    "\n",
    "## 2. Hands-on session <a id='ho'></a>\n",
    "\n",
    "### Exercise 1\n",
    "Challenge: \n",
    "1. Using the Boston housing price dataset, build a neural network regression model. \n",
    "2. First overfit the model and then optimize the various hyperparameters. \n",
    "3. What is the smallest MAE? \n",
    "\n",
    "***\n"
   ]
  },
  {
   "cell_type": "markdown",
   "metadata": {},
   "source": [
    "### Exercise 2 \n",
    "\n",
    " ***\n",
    "1. Load the fraud detection dataset and split the data into a training and a test dataset.\n",
    "2. Create a neural network with Keras for binary classification. Use accuracy as a metric.\n",
    "3. Compute the confusion matrix with a threshold of 0.5 (use the predict() function of keras.model)"
   ]
  },
  {
   "cell_type": "markdown",
   "metadata": {},
   "source": [
    "### References\n",
    "***\n",
    "[1] Keras online documentation: https://keras.io/about/\n",
    "\n",
    "[2] Rashid, T. (2017). Neuronale Netze selbst programmieren: ein verständlicher Einstieg mit Python. O'Reilly.\n",
    "\n",
    "[3] Nguyen, C. N., & Zeigermann, O. (2018). Machine Learning: kurz & gut.\n",
    "\n",
    "[4] Chollet, F. (2018). Deep Learning mit Python und Keras: Das Praxis-Handbuch vom Entwickler der Keras-Bibliothek. MITP-Verlags GmbH & Co. KG.\n",
    "\n"
   ]
  },
  {
   "cell_type": "code",
   "execution_count": null,
   "metadata": {},
   "outputs": [],
   "source": []
  }
 ],
 "metadata": {
  "kernelspec": {
   "display_name": "Python 3 (ipykernel)",
   "language": "python",
   "name": "python3"
  },
  "language_info": {
   "codemirror_mode": {
    "name": "ipython",
    "version": 3
   },
   "file_extension": ".py",
   "mimetype": "text/x-python",
   "name": "python",
   "nbconvert_exporter": "python",
   "pygments_lexer": "ipython3",
   "version": "3.10.9"
  },
  "toc": {
   "base_numbering": 1,
   "nav_menu": {},
   "number_sections": true,
   "sideBar": true,
   "skip_h1_title": false,
   "title_cell": "Table of Contents",
   "title_sidebar": "Contents",
   "toc_cell": false,
   "toc_position": {},
   "toc_section_display": true,
   "toc_window_display": false
  },
  "varInspector": {
   "cols": {
    "lenName": 16,
    "lenType": 16,
    "lenVar": 40
   },
   "kernels_config": {
    "python": {
     "delete_cmd_postfix": "",
     "delete_cmd_prefix": "del ",
     "library": "var_list.py",
     "varRefreshCmd": "print(var_dic_list())"
    },
    "r": {
     "delete_cmd_postfix": ") ",
     "delete_cmd_prefix": "rm(",
     "library": "var_list.r",
     "varRefreshCmd": "cat(var_dic_list()) "
    }
   },
   "oldHeight": 330.86,
   "position": {
    "height": "40px",
    "left": "1453px",
    "right": "20px",
    "top": "124px",
    "width": "328px"
   },
   "types_to_exclude": [
    "module",
    "function",
    "builtin_function_or_method",
    "instance",
    "_Feature"
   ],
   "varInspector_section_display": "none",
   "window_display": true
  }
 },
 "nbformat": 4,
 "nbformat_minor": 2
}
